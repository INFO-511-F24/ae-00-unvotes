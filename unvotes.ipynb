{
 "cells": [
  {
   "cell_type": "markdown",
   "metadata": {},
   "source": [
    "## Introduction\n",
    "\n",
    "How do various countries vote in the United Nations General Assembly, how have their voting patterns evolved throughout time, and how similarly or differently do they view certain issues?\n",
    "Answering these questions (at a high level) is the focus of this analysis."
   ]
  },
  {
   "cell_type": "markdown",
   "metadata": {},
   "source": [
    "### Packages\n",
    "\n",
    "We will use the **pandas**, **matplotlib**, and **seaborn** packages for data wrangling and visualization, and the **itables** package for interactive display of tabular output."
   ]
  },
  {
   "cell_type": "code",
   "execution_count": null,
   "metadata": {
    "vscode": {
     "languageId": "plaintext"
    }
   },
   "outputs": [],
   "source": [
    "import pandas as pd\n",
    "import matplotlib.pyplot as plt\n",
    "import seaborn as sns\n",
    "from itables import show, init_notebook_mode"
   ]
  },
  {
   "cell_type": "markdown",
   "metadata": {},
   "source": [
    "### Data\n",
    "\n",
    "The data we're using originally come from the **unvotes** R package.\n",
    "In the chunk below we modify the data by joining the various data frames provided in the package to help you get started with the analysis."
   ]
  },
  {
   "cell_type": "code",
   "execution_count": null,
   "metadata": {
    "vscode": {
     "languageId": "plaintext"
    }
   },
   "outputs": [],
   "source": [
    "un_votes = pd.read_csv('data/un_votes.csv')\n",
    "un_roll_calls = pd.read_csv('data/un_roll_calls.csv')\n",
    "un_roll_call_issues = pd.read_csv('data/un_roll_call_issues.csv')\n",
    "\n",
    "unvotes = un_votes.merge(un_roll_calls, on='rcid').merge(un_roll_call_issues, on='rcid')"
   ]
  },
  {
   "cell_type": "markdown",
   "metadata": {},
   "source": [
    "## UN voting patterns\n",
    "\n",
    "Let's create a data visualization that displays how the voting record of the UK & NI changed over time on a variety of issues and compares it to two other countries: US and Turkey.\n",
    "\n",
    "We can easily change which countries are being plotted by changing which countries the code filters for.\n",
    "Note that the country name should be spelled and capitalized exactly the same way as it appears in the data.\n",
    "See the [Appendix](#appendix) for a list of the countries in the data."
   ]
  },
  {
   "cell_type": "code",
   "execution_count": null,
   "metadata": {
    "vscode": {
     "languageId": "plaintext"
    }
   },
   "outputs": [],
   "source": [
    "# Filter the data for the selected countries and prepare for plotting\n",
    "filtered_unvotes = unvotes[unvotes['country'].isin(['United Kingdom', 'United States', 'Turkey'])]\n",
    "filtered_unvotes['year'] = pd.to_datetime(filtered_unvotes['date']).dt.year\n",
    "\n",
    "# Calculate the percentage of 'yes' votes per year, per country, per issue\n",
    "percent_yes = filtered_unvotes.groupby(['country', 'year', 'issue'])['vote'].apply(lambda x: (x == 'yes').mean()).reset_index()\n",
    "percent_yes.rename(columns={'vote': 'percent_yes'}, inplace=True)\n",
    "\n",
    "# Create the faceted plot\n",
    "g = sns.FacetGrid(percent_yes, col=\"issue\", hue=\"country\", col_wrap=3)\n",
    "g.map(sns.scatterplot, \"year\", \"percent_yes\", alpha=0.4)\n",
    "g.map(sns.regplot, \"year\", \"percent_yes\", lowess=True, scatter=False)\n",
    "\n",
    "# Adjust the labels and titles \n",
    "g.set_axis_labels(\"Year\", \"% Yes\")\n",
    "g.set_titles(col_template=\"{col_name}\")\n",
    "g.add_legend(title=\"Country\")\n",
    "g.fig.suptitle(\"Percentage of 'Yes' votes in the UN General Assembly\", y=1.02)\n",
    "plt.subplots_adjust(top=0.9)\n",
    "\n",
    "plt.show()"
   ]
  },
  {
   "cell_type": "markdown",
   "metadata": {},
   "source": [
    "## References\n",
    "\n",
    "1.  David Robinson (2017). [unvotes](https://CRAN.R-project.org/package=unvotes): United Nations General Assembly Voting Data. R package version 0.2.0.\n",
    "2.  Erik Voeten \"Data and Analyses of Voting in the UN General Assembly\" Routledge Handbook of International Organization, edited by Bob Reinalda (published May 27, 2013).\n",
    "3.  Much of the analysis has been modeled on the examples presented in the [unvotes R package vignette](https://cran.r-project.org/web/packages/unvotes/vignettes/unvotes.html).\n",
    "\n",
    "## Appendix {#appendix}\n",
    "\n",
    "Below is a list of countries in the dataset:"
   ]
  },
  {
   "cell_type": "code",
   "execution_count": null,
   "metadata": {
    "vscode": {
     "languageId": "plaintext"
    }
   },
   "outputs": [],
   "source": [
    "# Initialize itables for Jupyter Notebook\n",
    "init_notebook_mode(all_interactive=True)\n",
    "\n",
    "# Assuming unvotes DataFrame is already loaded and available\n",
    "countries = unvotes['country'].unique()\n",
    "countries.sort()\n",
    "countries_df = pd.DataFrame(countries, columns=['country'])\n",
    "\n",
    "# Display the interactive table\n",
    "show(countries_df, style=\"table-layout:auto;width:100%;float:left\")"
   ]
  }
 ],
 "metadata": {
  "language_info": {
   "name": "python"
  }
 },
 "nbformat": 4,
 "nbformat_minor": 2
}
